{
  "nbformat": 4,
  "nbformat_minor": 0,
  "metadata": {
    "kernelspec": {
      "display_name": "Python 3",
      "language": "python",
      "name": "python3"
    },
    "language_info": {
      "codemirror_mode": {
        "name": "ipython",
        "version": 3
      },
      "file_extension": ".py",
      "mimetype": "text/x-python",
      "name": "python",
      "nbconvert_exporter": "python",
      "pygments_lexer": "ipython3",
      "version": "3.7.6"
    },
    "papermill": {
      "duration": 75.449019,
      "end_time": "2021-05-10T19:59:23.652274",
      "environment_variables": {},
      "exception": null,
      "input_path": "__notebook__.ipynb",
      "output_path": "__notebook__.ipynb",
      "parameters": {},
      "start_time": "2021-05-10T19:58:08.203255",
      "version": "2.1.0"
    },
    "colab": {
      "name": "sin-backup-project.ipynb",
      "provenance": [],
      "collapsed_sections": []
    }
  },
  "cells": [
    {
      "cell_type": "code",
      "metadata": {
        "_cell_guid": "79c7e3d0-c299-4dcb-8224-4455121ee9b0",
        "_uuid": "d629ff2d2480ee46fbb7e2d37f6b5fab8052498a",
        "execution": {
          "iopub.execute_input": "2021-05-10T19:58:12.460031Z",
          "iopub.status.busy": "2021-05-10T19:58:12.459258Z",
          "iopub.status.idle": "2021-05-10T19:58:19.400647Z",
          "shell.execute_reply": "2021-05-10T19:58:19.400080Z"
        },
        "papermill": {
          "duration": 6.959248,
          "end_time": "2021-05-10T19:58:19.400771",
          "exception": false,
          "start_time": "2021-05-10T19:58:12.441523",
          "status": "completed"
        },
        "tags": [],
        "colab": {
          "base_uri": "https://localhost:8080/"
        },
        "id": "-gclJHG6lxS5",
        "outputId": "f2d19ecb-cbd9-4664-be9e-9700c5b45e22"
      },
      "source": [
        "import numpy as np\n",
        "import pandas as pd\n",
        "\n",
        "import re\n",
        "!pip install emoji\n",
        "import emoji\n",
        "from nltk.stem import PorterStemmer\n",
        "from tensorflow.keras.preprocessing.text import Tokenizer\n",
        "from tensorflow.keras.preprocessing.sequence import pad_sequences\n",
        "from sklearn.model_selection import train_test_split\n",
        "\n",
        "import tensorflow as tf"
      ],
      "execution_count": 1,
      "outputs": [
        {
          "output_type": "stream",
          "text": [
            "Requirement already satisfied: emoji in /usr/local/lib/python3.7/dist-packages (1.2.0)\n"
          ],
          "name": "stdout"
        }
      ]
    },
    {
      "cell_type": "code",
      "metadata": {
        "execution": {
          "iopub.execute_input": "2021-05-10T19:58:19.435583Z",
          "iopub.status.busy": "2021-05-10T19:58:19.434974Z",
          "iopub.status.idle": "2021-05-10T19:58:19.557098Z",
          "shell.execute_reply": "2021-05-10T19:58:19.556588Z"
        },
        "papermill": {
          "duration": 0.145601,
          "end_time": "2021-05-10T19:58:19.557243",
          "exception": false,
          "start_time": "2021-05-10T19:58:19.411642",
          "status": "completed"
        },
        "tags": [],
        "colab": {
          "base_uri": "https://localhost:8080/"
        },
        "id": "MTIvqohrlxS6",
        "outputId": "19b1d50c-a428-43c3-8995-a21fce75666e"
      },
      "source": [
        "from google.colab import drive\n",
        "drive.mount('/content/gdrive')\n",
        "data = pd.read_csv('gdrive/My Drive/Tweets.csv')"
      ],
      "execution_count": 2,
      "outputs": [
        {
          "output_type": "stream",
          "text": [
            "Drive already mounted at /content/gdrive; to attempt to forcibly remount, call drive.mount(\"/content/gdrive\", force_remount=True).\n"
          ],
          "name": "stdout"
        }
      ]
    },
    {
      "cell_type": "code",
      "metadata": {
        "execution": {
          "iopub.execute_input": "2021-05-10T19:58:19.606864Z",
          "iopub.status.busy": "2021-05-10T19:58:19.603693Z",
          "iopub.status.idle": "2021-05-10T19:58:19.627453Z",
          "shell.execute_reply": "2021-05-10T19:58:19.626745Z"
        },
        "papermill": {
          "duration": 0.05978,
          "end_time": "2021-05-10T19:58:19.627577",
          "exception": false,
          "start_time": "2021-05-10T19:58:19.567797",
          "status": "completed"
        },
        "tags": [],
        "colab": {
          "base_uri": "https://localhost:8080/",
          "height": 915
        },
        "id": "F-_5obPJlxS6",
        "outputId": "2ded354f-22ab-47f7-fb9a-55ebba71742b"
      },
      "source": [
        "data"
      ],
      "execution_count": 3,
      "outputs": [
        {
          "output_type": "execute_result",
          "data": {
            "text/html": [
              "<div>\n",
              "<style scoped>\n",
              "    .dataframe tbody tr th:only-of-type {\n",
              "        vertical-align: middle;\n",
              "    }\n",
              "\n",
              "    .dataframe tbody tr th {\n",
              "        vertical-align: top;\n",
              "    }\n",
              "\n",
              "    .dataframe thead th {\n",
              "        text-align: right;\n",
              "    }\n",
              "</style>\n",
              "<table border=\"1\" class=\"dataframe\">\n",
              "  <thead>\n",
              "    <tr style=\"text-align: right;\">\n",
              "      <th></th>\n",
              "      <th>tweet_id</th>\n",
              "      <th>airline_sentiment</th>\n",
              "      <th>airline_sentiment_confidence</th>\n",
              "      <th>negativereason</th>\n",
              "      <th>negativereason_confidence</th>\n",
              "      <th>airline</th>\n",
              "      <th>airline_sentiment_gold</th>\n",
              "      <th>name</th>\n",
              "      <th>negativereason_gold</th>\n",
              "      <th>retweet_count</th>\n",
              "      <th>text</th>\n",
              "      <th>tweet_coord</th>\n",
              "      <th>tweet_created</th>\n",
              "      <th>tweet_location</th>\n",
              "      <th>user_timezone</th>\n",
              "    </tr>\n",
              "  </thead>\n",
              "  <tbody>\n",
              "    <tr>\n",
              "      <th>0</th>\n",
              "      <td>570306133677760513</td>\n",
              "      <td>neutral</td>\n",
              "      <td>1.0000</td>\n",
              "      <td>NaN</td>\n",
              "      <td>NaN</td>\n",
              "      <td>Virgin America</td>\n",
              "      <td>NaN</td>\n",
              "      <td>cairdin</td>\n",
              "      <td>NaN</td>\n",
              "      <td>0</td>\n",
              "      <td>@VirginAmerica What @dhepburn said.</td>\n",
              "      <td>NaN</td>\n",
              "      <td>2015-02-24 11:35:52 -0800</td>\n",
              "      <td>NaN</td>\n",
              "      <td>Eastern Time (US &amp; Canada)</td>\n",
              "    </tr>\n",
              "    <tr>\n",
              "      <th>1</th>\n",
              "      <td>570301130888122368</td>\n",
              "      <td>positive</td>\n",
              "      <td>0.3486</td>\n",
              "      <td>NaN</td>\n",
              "      <td>0.0000</td>\n",
              "      <td>Virgin America</td>\n",
              "      <td>NaN</td>\n",
              "      <td>jnardino</td>\n",
              "      <td>NaN</td>\n",
              "      <td>0</td>\n",
              "      <td>@VirginAmerica plus you've added commercials t...</td>\n",
              "      <td>NaN</td>\n",
              "      <td>2015-02-24 11:15:59 -0800</td>\n",
              "      <td>NaN</td>\n",
              "      <td>Pacific Time (US &amp; Canada)</td>\n",
              "    </tr>\n",
              "    <tr>\n",
              "      <th>2</th>\n",
              "      <td>570301083672813571</td>\n",
              "      <td>neutral</td>\n",
              "      <td>0.6837</td>\n",
              "      <td>NaN</td>\n",
              "      <td>NaN</td>\n",
              "      <td>Virgin America</td>\n",
              "      <td>NaN</td>\n",
              "      <td>yvonnalynn</td>\n",
              "      <td>NaN</td>\n",
              "      <td>0</td>\n",
              "      <td>@VirginAmerica I didn't today... Must mean I n...</td>\n",
              "      <td>NaN</td>\n",
              "      <td>2015-02-24 11:15:48 -0800</td>\n",
              "      <td>Lets Play</td>\n",
              "      <td>Central Time (US &amp; Canada)</td>\n",
              "    </tr>\n",
              "    <tr>\n",
              "      <th>3</th>\n",
              "      <td>570301031407624196</td>\n",
              "      <td>negative</td>\n",
              "      <td>1.0000</td>\n",
              "      <td>Bad Flight</td>\n",
              "      <td>0.7033</td>\n",
              "      <td>Virgin America</td>\n",
              "      <td>NaN</td>\n",
              "      <td>jnardino</td>\n",
              "      <td>NaN</td>\n",
              "      <td>0</td>\n",
              "      <td>@VirginAmerica it's really aggressive to blast...</td>\n",
              "      <td>NaN</td>\n",
              "      <td>2015-02-24 11:15:36 -0800</td>\n",
              "      <td>NaN</td>\n",
              "      <td>Pacific Time (US &amp; Canada)</td>\n",
              "    </tr>\n",
              "    <tr>\n",
              "      <th>4</th>\n",
              "      <td>570300817074462722</td>\n",
              "      <td>negative</td>\n",
              "      <td>1.0000</td>\n",
              "      <td>Can't Tell</td>\n",
              "      <td>1.0000</td>\n",
              "      <td>Virgin America</td>\n",
              "      <td>NaN</td>\n",
              "      <td>jnardino</td>\n",
              "      <td>NaN</td>\n",
              "      <td>0</td>\n",
              "      <td>@VirginAmerica and it's a really big bad thing...</td>\n",
              "      <td>NaN</td>\n",
              "      <td>2015-02-24 11:14:45 -0800</td>\n",
              "      <td>NaN</td>\n",
              "      <td>Pacific Time (US &amp; Canada)</td>\n",
              "    </tr>\n",
              "    <tr>\n",
              "      <th>...</th>\n",
              "      <td>...</td>\n",
              "      <td>...</td>\n",
              "      <td>...</td>\n",
              "      <td>...</td>\n",
              "      <td>...</td>\n",
              "      <td>...</td>\n",
              "      <td>...</td>\n",
              "      <td>...</td>\n",
              "      <td>...</td>\n",
              "      <td>...</td>\n",
              "      <td>...</td>\n",
              "      <td>...</td>\n",
              "      <td>...</td>\n",
              "      <td>...</td>\n",
              "      <td>...</td>\n",
              "    </tr>\n",
              "    <tr>\n",
              "      <th>14635</th>\n",
              "      <td>569587686496825344</td>\n",
              "      <td>positive</td>\n",
              "      <td>0.3487</td>\n",
              "      <td>NaN</td>\n",
              "      <td>0.0000</td>\n",
              "      <td>American</td>\n",
              "      <td>NaN</td>\n",
              "      <td>KristenReenders</td>\n",
              "      <td>NaN</td>\n",
              "      <td>0</td>\n",
              "      <td>@AmericanAir thank you we got on a different f...</td>\n",
              "      <td>NaN</td>\n",
              "      <td>2015-02-22 12:01:01 -0800</td>\n",
              "      <td>NaN</td>\n",
              "      <td>NaN</td>\n",
              "    </tr>\n",
              "    <tr>\n",
              "      <th>14636</th>\n",
              "      <td>569587371693355008</td>\n",
              "      <td>negative</td>\n",
              "      <td>1.0000</td>\n",
              "      <td>Customer Service Issue</td>\n",
              "      <td>1.0000</td>\n",
              "      <td>American</td>\n",
              "      <td>NaN</td>\n",
              "      <td>itsropes</td>\n",
              "      <td>NaN</td>\n",
              "      <td>0</td>\n",
              "      <td>@AmericanAir leaving over 20 minutes Late Flig...</td>\n",
              "      <td>NaN</td>\n",
              "      <td>2015-02-22 11:59:46 -0800</td>\n",
              "      <td>Texas</td>\n",
              "      <td>NaN</td>\n",
              "    </tr>\n",
              "    <tr>\n",
              "      <th>14637</th>\n",
              "      <td>569587242672398336</td>\n",
              "      <td>neutral</td>\n",
              "      <td>1.0000</td>\n",
              "      <td>NaN</td>\n",
              "      <td>NaN</td>\n",
              "      <td>American</td>\n",
              "      <td>NaN</td>\n",
              "      <td>sanyabun</td>\n",
              "      <td>NaN</td>\n",
              "      <td>0</td>\n",
              "      <td>@AmericanAir Please bring American Airlines to...</td>\n",
              "      <td>NaN</td>\n",
              "      <td>2015-02-22 11:59:15 -0800</td>\n",
              "      <td>Nigeria,lagos</td>\n",
              "      <td>NaN</td>\n",
              "    </tr>\n",
              "    <tr>\n",
              "      <th>14638</th>\n",
              "      <td>569587188687634433</td>\n",
              "      <td>negative</td>\n",
              "      <td>1.0000</td>\n",
              "      <td>Customer Service Issue</td>\n",
              "      <td>0.6659</td>\n",
              "      <td>American</td>\n",
              "      <td>NaN</td>\n",
              "      <td>SraJackson</td>\n",
              "      <td>NaN</td>\n",
              "      <td>0</td>\n",
              "      <td>@AmericanAir you have my money, you change my ...</td>\n",
              "      <td>NaN</td>\n",
              "      <td>2015-02-22 11:59:02 -0800</td>\n",
              "      <td>New Jersey</td>\n",
              "      <td>Eastern Time (US &amp; Canada)</td>\n",
              "    </tr>\n",
              "    <tr>\n",
              "      <th>14639</th>\n",
              "      <td>569587140490866689</td>\n",
              "      <td>neutral</td>\n",
              "      <td>0.6771</td>\n",
              "      <td>NaN</td>\n",
              "      <td>0.0000</td>\n",
              "      <td>American</td>\n",
              "      <td>NaN</td>\n",
              "      <td>daviddtwu</td>\n",
              "      <td>NaN</td>\n",
              "      <td>0</td>\n",
              "      <td>@AmericanAir we have 8 ppl so we need 2 know h...</td>\n",
              "      <td>NaN</td>\n",
              "      <td>2015-02-22 11:58:51 -0800</td>\n",
              "      <td>dallas, TX</td>\n",
              "      <td>NaN</td>\n",
              "    </tr>\n",
              "  </tbody>\n",
              "</table>\n",
              "<p>14640 rows × 15 columns</p>\n",
              "</div>"
            ],
            "text/plain": [
              "                 tweet_id  ...               user_timezone\n",
              "0      570306133677760513  ...  Eastern Time (US & Canada)\n",
              "1      570301130888122368  ...  Pacific Time (US & Canada)\n",
              "2      570301083672813571  ...  Central Time (US & Canada)\n",
              "3      570301031407624196  ...  Pacific Time (US & Canada)\n",
              "4      570300817074462722  ...  Pacific Time (US & Canada)\n",
              "...                   ...  ...                         ...\n",
              "14635  569587686496825344  ...                         NaN\n",
              "14636  569587371693355008  ...                         NaN\n",
              "14637  569587242672398336  ...                         NaN\n",
              "14638  569587188687634433  ...  Eastern Time (US & Canada)\n",
              "14639  569587140490866689  ...                         NaN\n",
              "\n",
              "[14640 rows x 15 columns]"
            ]
          },
          "metadata": {
            "tags": []
          },
          "execution_count": 3
        }
      ]
    },
    {
      "cell_type": "code",
      "metadata": {
        "execution": {
          "iopub.execute_input": "2021-05-10T19:58:19.657705Z",
          "iopub.status.busy": "2021-05-10T19:58:19.657038Z",
          "iopub.status.idle": "2021-05-10T19:58:19.689614Z",
          "shell.execute_reply": "2021-05-10T19:58:19.688941Z"
        },
        "papermill": {
          "duration": 0.050251,
          "end_time": "2021-05-10T19:58:19.689727",
          "exception": false,
          "start_time": "2021-05-10T19:58:19.639476",
          "status": "completed"
        },
        "tags": [],
        "id": "8k13VXTelxS7"
      },
      "source": [
        "confidence_threshold = 0.6\n",
        "\n",
        "data = data.drop(data.query(\"airline_sentiment_confidence < @confidence_threshold\").index, axis=0).reset_index(drop=True)"
      ],
      "execution_count": 4,
      "outputs": []
    },
    {
      "cell_type": "code",
      "metadata": {
        "execution": {
          "iopub.execute_input": "2021-05-10T19:58:19.727263Z",
          "iopub.status.busy": "2021-05-10T19:58:19.726054Z",
          "iopub.status.idle": "2021-05-10T19:58:19.730951Z",
          "shell.execute_reply": "2021-05-10T19:58:19.730351Z"
        },
        "papermill": {
          "duration": 0.029862,
          "end_time": "2021-05-10T19:58:19.731062",
          "exception": false,
          "start_time": "2021-05-10T19:58:19.701200",
          "status": "completed"
        },
        "tags": [],
        "colab": {
          "base_uri": "https://localhost:8080/",
          "height": 419
        },
        "id": "MZ3lC-ZMlxS7",
        "outputId": "467d39b8-3f0c-4574-aaad-71c224f2010f"
      },
      "source": [
        "tweets_df = pd.concat([data['text'], data['airline_sentiment']], axis=1)\n",
        "tweets_df"
      ],
      "execution_count": 5,
      "outputs": [
        {
          "output_type": "execute_result",
          "data": {
            "text/html": [
              "<div>\n",
              "<style scoped>\n",
              "    .dataframe tbody tr th:only-of-type {\n",
              "        vertical-align: middle;\n",
              "    }\n",
              "\n",
              "    .dataframe tbody tr th {\n",
              "        vertical-align: top;\n",
              "    }\n",
              "\n",
              "    .dataframe thead th {\n",
              "        text-align: right;\n",
              "    }\n",
              "</style>\n",
              "<table border=\"1\" class=\"dataframe\">\n",
              "  <thead>\n",
              "    <tr style=\"text-align: right;\">\n",
              "      <th></th>\n",
              "      <th>text</th>\n",
              "      <th>airline_sentiment</th>\n",
              "    </tr>\n",
              "  </thead>\n",
              "  <tbody>\n",
              "    <tr>\n",
              "      <th>0</th>\n",
              "      <td>@VirginAmerica What @dhepburn said.</td>\n",
              "      <td>neutral</td>\n",
              "    </tr>\n",
              "    <tr>\n",
              "      <th>1</th>\n",
              "      <td>@VirginAmerica I didn't today... Must mean I n...</td>\n",
              "      <td>neutral</td>\n",
              "    </tr>\n",
              "    <tr>\n",
              "      <th>2</th>\n",
              "      <td>@VirginAmerica it's really aggressive to blast...</td>\n",
              "      <td>negative</td>\n",
              "    </tr>\n",
              "    <tr>\n",
              "      <th>3</th>\n",
              "      <td>@VirginAmerica and it's a really big bad thing...</td>\n",
              "      <td>negative</td>\n",
              "    </tr>\n",
              "    <tr>\n",
              "      <th>4</th>\n",
              "      <td>@VirginAmerica seriously would pay $30 a fligh...</td>\n",
              "      <td>negative</td>\n",
              "    </tr>\n",
              "    <tr>\n",
              "      <th>...</th>\n",
              "      <td>...</td>\n",
              "      <td>...</td>\n",
              "    </tr>\n",
              "    <tr>\n",
              "      <th>14397</th>\n",
              "      <td>@AmericanAir right on cue with the delays👌</td>\n",
              "      <td>negative</td>\n",
              "    </tr>\n",
              "    <tr>\n",
              "      <th>14398</th>\n",
              "      <td>@AmericanAir leaving over 20 minutes Late Flig...</td>\n",
              "      <td>negative</td>\n",
              "    </tr>\n",
              "    <tr>\n",
              "      <th>14399</th>\n",
              "      <td>@AmericanAir Please bring American Airlines to...</td>\n",
              "      <td>neutral</td>\n",
              "    </tr>\n",
              "    <tr>\n",
              "      <th>14400</th>\n",
              "      <td>@AmericanAir you have my money, you change my ...</td>\n",
              "      <td>negative</td>\n",
              "    </tr>\n",
              "    <tr>\n",
              "      <th>14401</th>\n",
              "      <td>@AmericanAir we have 8 ppl so we need 2 know h...</td>\n",
              "      <td>neutral</td>\n",
              "    </tr>\n",
              "  </tbody>\n",
              "</table>\n",
              "<p>14402 rows × 2 columns</p>\n",
              "</div>"
            ],
            "text/plain": [
              "                                                    text airline_sentiment\n",
              "0                    @VirginAmerica What @dhepburn said.           neutral\n",
              "1      @VirginAmerica I didn't today... Must mean I n...           neutral\n",
              "2      @VirginAmerica it's really aggressive to blast...          negative\n",
              "3      @VirginAmerica and it's a really big bad thing...          negative\n",
              "4      @VirginAmerica seriously would pay $30 a fligh...          negative\n",
              "...                                                  ...               ...\n",
              "14397         @AmericanAir right on cue with the delays👌          negative\n",
              "14398  @AmericanAir leaving over 20 minutes Late Flig...          negative\n",
              "14399  @AmericanAir Please bring American Airlines to...           neutral\n",
              "14400  @AmericanAir you have my money, you change my ...          negative\n",
              "14401  @AmericanAir we have 8 ppl so we need 2 know h...           neutral\n",
              "\n",
              "[14402 rows x 2 columns]"
            ]
          },
          "metadata": {
            "tags": []
          },
          "execution_count": 5
        }
      ]
    },
    {
      "cell_type": "code",
      "metadata": {
        "execution": {
          "iopub.execute_input": "2021-05-10T19:58:19.762803Z",
          "iopub.status.busy": "2021-05-10T19:58:19.762070Z",
          "iopub.status.idle": "2021-05-10T19:58:19.764982Z",
          "shell.execute_reply": "2021-05-10T19:58:19.765546Z"
        },
        "papermill": {
          "duration": 0.02278,
          "end_time": "2021-05-10T19:58:19.765688",
          "exception": false,
          "start_time": "2021-05-10T19:58:19.742908",
          "status": "completed"
        },
        "tags": [],
        "colab": {
          "base_uri": "https://localhost:8080/"
        },
        "id": "G2YIbtCZlxS8",
        "outputId": "b11617da-3f77-4cb9-eed6-4b580f577963"
      },
      "source": [
        "tweets_df.isna().sum().sum()"
      ],
      "execution_count": 6,
      "outputs": [
        {
          "output_type": "execute_result",
          "data": {
            "text/plain": [
              "0"
            ]
          },
          "metadata": {
            "tags": []
          },
          "execution_count": 6
        }
      ]
    },
    {
      "cell_type": "code",
      "metadata": {
        "execution": {
          "iopub.execute_input": "2021-05-10T19:58:19.792846Z",
          "iopub.status.busy": "2021-05-10T19:58:19.792314Z",
          "iopub.status.idle": "2021-05-10T19:58:19.800459Z",
          "shell.execute_reply": "2021-05-10T19:58:19.800989Z"
        },
        "papermill": {
          "duration": 0.02334,
          "end_time": "2021-05-10T19:58:19.801133",
          "exception": false,
          "start_time": "2021-05-10T19:58:19.777793",
          "status": "completed"
        },
        "tags": [],
        "colab": {
          "base_uri": "https://localhost:8080/"
        },
        "id": "SFs-ibhKlxS8",
        "outputId": "08845c1e-ac50-400b-c4fd-422affac8bbb"
      },
      "source": [
        "tweets_df['airline_sentiment'].value_counts()"
      ],
      "execution_count": 7,
      "outputs": [
        {
          "output_type": "execute_result",
          "data": {
            "text/plain": [
              "negative    9113\n",
              "neutral     2997\n",
              "positive    2292\n",
              "Name: airline_sentiment, dtype: int64"
            ]
          },
          "metadata": {
            "tags": []
          },
          "execution_count": 7
        }
      ]
    },
    {
      "cell_type": "code",
      "metadata": {
        "execution": {
          "iopub.execute_input": "2021-05-10T19:58:19.829810Z",
          "iopub.status.busy": "2021-05-10T19:58:19.829136Z",
          "iopub.status.idle": "2021-05-10T19:58:19.840936Z",
          "shell.execute_reply": "2021-05-10T19:58:19.841435Z"
        },
        "papermill": {
          "duration": 0.027671,
          "end_time": "2021-05-10T19:58:19.841576",
          "exception": false,
          "start_time": "2021-05-10T19:58:19.813905",
          "status": "completed"
        },
        "tags": [],
        "id": "fYqQkgSTlxS9"
      },
      "source": [
        "sentiment_ordering = ['negative', 'neutral', 'positive']\n",
        "\n",
        "tweets_df['airline_sentiment'] = tweets_df['airline_sentiment'].apply(lambda x: sentiment_ordering.index(x))"
      ],
      "execution_count": 8,
      "outputs": []
    },
    {
      "cell_type": "code",
      "metadata": {
        "execution": {
          "iopub.execute_input": "2021-05-10T19:58:19.870241Z",
          "iopub.status.busy": "2021-05-10T19:58:19.869644Z",
          "iopub.status.idle": "2021-05-10T19:58:19.879082Z",
          "shell.execute_reply": "2021-05-10T19:58:19.879580Z"
        },
        "papermill": {
          "duration": 0.025299,
          "end_time": "2021-05-10T19:58:19.879724",
          "exception": false,
          "start_time": "2021-05-10T19:58:19.854425",
          "status": "completed"
        },
        "tags": [],
        "colab": {
          "base_uri": "https://localhost:8080/",
          "height": 419
        },
        "id": "aZ56iJNHlxS9",
        "outputId": "cfd64048-78cd-4b08-b6b0-a4ba9287e570"
      },
      "source": [
        "tweets_df"
      ],
      "execution_count": 9,
      "outputs": [
        {
          "output_type": "execute_result",
          "data": {
            "text/html": [
              "<div>\n",
              "<style scoped>\n",
              "    .dataframe tbody tr th:only-of-type {\n",
              "        vertical-align: middle;\n",
              "    }\n",
              "\n",
              "    .dataframe tbody tr th {\n",
              "        vertical-align: top;\n",
              "    }\n",
              "\n",
              "    .dataframe thead th {\n",
              "        text-align: right;\n",
              "    }\n",
              "</style>\n",
              "<table border=\"1\" class=\"dataframe\">\n",
              "  <thead>\n",
              "    <tr style=\"text-align: right;\">\n",
              "      <th></th>\n",
              "      <th>text</th>\n",
              "      <th>airline_sentiment</th>\n",
              "    </tr>\n",
              "  </thead>\n",
              "  <tbody>\n",
              "    <tr>\n",
              "      <th>0</th>\n",
              "      <td>@VirginAmerica What @dhepburn said.</td>\n",
              "      <td>1</td>\n",
              "    </tr>\n",
              "    <tr>\n",
              "      <th>1</th>\n",
              "      <td>@VirginAmerica I didn't today... Must mean I n...</td>\n",
              "      <td>1</td>\n",
              "    </tr>\n",
              "    <tr>\n",
              "      <th>2</th>\n",
              "      <td>@VirginAmerica it's really aggressive to blast...</td>\n",
              "      <td>0</td>\n",
              "    </tr>\n",
              "    <tr>\n",
              "      <th>3</th>\n",
              "      <td>@VirginAmerica and it's a really big bad thing...</td>\n",
              "      <td>0</td>\n",
              "    </tr>\n",
              "    <tr>\n",
              "      <th>4</th>\n",
              "      <td>@VirginAmerica seriously would pay $30 a fligh...</td>\n",
              "      <td>0</td>\n",
              "    </tr>\n",
              "    <tr>\n",
              "      <th>...</th>\n",
              "      <td>...</td>\n",
              "      <td>...</td>\n",
              "    </tr>\n",
              "    <tr>\n",
              "      <th>14397</th>\n",
              "      <td>@AmericanAir right on cue with the delays👌</td>\n",
              "      <td>0</td>\n",
              "    </tr>\n",
              "    <tr>\n",
              "      <th>14398</th>\n",
              "      <td>@AmericanAir leaving over 20 minutes Late Flig...</td>\n",
              "      <td>0</td>\n",
              "    </tr>\n",
              "    <tr>\n",
              "      <th>14399</th>\n",
              "      <td>@AmericanAir Please bring American Airlines to...</td>\n",
              "      <td>1</td>\n",
              "    </tr>\n",
              "    <tr>\n",
              "      <th>14400</th>\n",
              "      <td>@AmericanAir you have my money, you change my ...</td>\n",
              "      <td>0</td>\n",
              "    </tr>\n",
              "    <tr>\n",
              "      <th>14401</th>\n",
              "      <td>@AmericanAir we have 8 ppl so we need 2 know h...</td>\n",
              "      <td>1</td>\n",
              "    </tr>\n",
              "  </tbody>\n",
              "</table>\n",
              "<p>14402 rows × 2 columns</p>\n",
              "</div>"
            ],
            "text/plain": [
              "                                                    text  airline_sentiment\n",
              "0                    @VirginAmerica What @dhepburn said.                  1\n",
              "1      @VirginAmerica I didn't today... Must mean I n...                  1\n",
              "2      @VirginAmerica it's really aggressive to blast...                  0\n",
              "3      @VirginAmerica and it's a really big bad thing...                  0\n",
              "4      @VirginAmerica seriously would pay $30 a fligh...                  0\n",
              "...                                                  ...                ...\n",
              "14397         @AmericanAir right on cue with the delays👌                  0\n",
              "14398  @AmericanAir leaving over 20 minutes Late Flig...                  0\n",
              "14399  @AmericanAir Please bring American Airlines to...                  1\n",
              "14400  @AmericanAir you have my money, you change my ...                  0\n",
              "14401  @AmericanAir we have 8 ppl so we need 2 know h...                  1\n",
              "\n",
              "[14402 rows x 2 columns]"
            ]
          },
          "metadata": {
            "tags": []
          },
          "execution_count": 9
        }
      ]
    },
    {
      "cell_type": "code",
      "metadata": {
        "execution": {
          "iopub.execute_input": "2021-05-10T19:58:19.910803Z",
          "iopub.status.busy": "2021-05-10T19:58:19.910087Z",
          "iopub.status.idle": "2021-05-10T19:58:19.966351Z",
          "shell.execute_reply": "2021-05-10T19:58:19.965750Z"
        },
        "papermill": {
          "duration": 0.072837,
          "end_time": "2021-05-10T19:58:19.966461",
          "exception": false,
          "start_time": "2021-05-10T19:58:19.893624",
          "status": "completed"
        },
        "tags": [],
        "colab": {
          "base_uri": "https://localhost:8080/",
          "height": 35
        },
        "id": "dal1Gk1ZlxS9",
        "outputId": "a8fc6e52-bfe6-4263-8884-bac1d3414b5c"
      },
      "source": [
        "emoji.demojize('@AmericanAir right on cue with the delays👌')"
      ],
      "execution_count": 10,
      "outputs": [
        {
          "output_type": "execute_result",
          "data": {
            "application/vnd.google.colaboratory.intrinsic+json": {
              "type": "string"
            },
            "text/plain": [
              "'@AmericanAir right on cue with the delays:OK_hand:'"
            ]
          },
          "metadata": {
            "tags": []
          },
          "execution_count": 10
        }
      ]
    },
    {
      "cell_type": "code",
      "metadata": {
        "execution": {
          "iopub.execute_input": "2021-05-10T19:58:19.995973Z",
          "iopub.status.busy": "2021-05-10T19:58:19.995430Z",
          "iopub.status.idle": "2021-05-10T19:58:20.002850Z",
          "shell.execute_reply": "2021-05-10T19:58:20.003372Z"
        },
        "papermill": {
          "duration": 0.023743,
          "end_time": "2021-05-10T19:58:20.003511",
          "exception": false,
          "start_time": "2021-05-10T19:58:19.979768",
          "status": "completed"
        },
        "tags": [],
        "id": "HWT9_ZoalxS9"
      },
      "source": [
        "ps = PorterStemmer()\n",
        "\n",
        "def process_tweet(tweet):\n",
        "    new_tweet = tweet.lower()\n",
        "    new_tweet = re.sub(r'@\\w+', '', new_tweet) # Remove @s\n",
        "    new_tweet = re.sub(r'#', '', new_tweet) # Remove hashtags\n",
        "    new_tweet = re.sub(r':', ' ', emoji.demojize(new_tweet)) # Turn emojis into words\n",
        "    new_tweet = re.sub(r'http\\S+', '',new_tweet) # Remove URLs\n",
        "    new_tweet = re.sub(r'\\$\\S+', 'dollar', new_tweet) # Change dollar amounts to dollar\n",
        "    new_tweet = re.sub(r'[^a-z0-9\\s]', '', new_tweet) # Remove punctuation\n",
        "    new_tweet = re.sub(r'[0-9]+', 'number', new_tweet) # Change number values to number\n",
        "    new_tweet = new_tweet.split(\" \")\n",
        "    new_tweet = list(map(lambda x: ps.stem(x), new_tweet)) # Stemming the words\n",
        "    new_tweet = list(map(lambda x: x.strip(), new_tweet)) # Stripping whitespace from the words\n",
        "    if '' in new_tweet:\n",
        "        new_tweet.remove('')\n",
        "    return new_tweet"
      ],
      "execution_count": 11,
      "outputs": []
    },
    {
      "cell_type": "code",
      "metadata": {
        "execution": {
          "iopub.execute_input": "2021-05-10T19:58:20.034335Z",
          "iopub.status.busy": "2021-05-10T19:58:20.033757Z",
          "iopub.status.idle": "2021-05-10T19:58:29.259692Z",
          "shell.execute_reply": "2021-05-10T19:58:29.260212Z"
        },
        "papermill": {
          "duration": 9.242765,
          "end_time": "2021-05-10T19:58:29.260363",
          "exception": false,
          "start_time": "2021-05-10T19:58:20.017598",
          "status": "completed"
        },
        "tags": [],
        "id": "zcWyKq3flxS-"
      },
      "source": [
        "tweets = tweets_df['text'].apply(process_tweet)\n",
        "\n",
        "labels = np.array(tweets_df['airline_sentiment'])"
      ],
      "execution_count": 12,
      "outputs": []
    },
    {
      "cell_type": "code",
      "metadata": {
        "execution": {
          "iopub.execute_input": "2021-05-10T19:58:29.291768Z",
          "iopub.status.busy": "2021-05-10T19:58:29.291133Z",
          "iopub.status.idle": "2021-05-10T19:58:29.299692Z",
          "shell.execute_reply": "2021-05-10T19:58:29.299051Z"
        },
        "papermill": {
          "duration": 0.025514,
          "end_time": "2021-05-10T19:58:29.299795",
          "exception": false,
          "start_time": "2021-05-10T19:58:29.274281",
          "status": "completed"
        },
        "tags": [],
        "colab": {
          "base_uri": "https://localhost:8080/"
        },
        "id": "7NLEt-O8lxS-",
        "outputId": "8b2794e4-a6a0-45ac-d78c-7402430df5f8"
      },
      "source": [
        "tweets"
      ],
      "execution_count": 13,
      "outputs": [
        {
          "output_type": "execute_result",
          "data": {
            "text/plain": [
              "0                                           [what, , said]\n",
              "1        [i, didnt, today, must, mean, i, need, to, tak...\n",
              "2        [it, realli, aggress, to, blast, obnoxi, enter...\n",
              "3         [and, it, a, realli, big, bad, thing, about, it]\n",
              "4        [serious, would, pay, dollar, a, flight, for, ...\n",
              "                               ...                        \n",
              "14397           [right, on, cue, with, the, delay, hand, ]\n",
              "14398    [leav, over, number, minut, late, flight, no, ...\n",
              "14399    [pleas, bring, american, airlin, to, blackberr...\n",
              "14400    [you, have, my, money, you, chang, my, flight,...\n",
              "14401    [we, have, number, ppl, so, we, need, number, ...\n",
              "Name: text, Length: 14402, dtype: object"
            ]
          },
          "metadata": {
            "tags": []
          },
          "execution_count": 13
        }
      ]
    },
    {
      "cell_type": "code",
      "metadata": {
        "execution": {
          "iopub.execute_input": "2021-05-10T19:58:29.341379Z",
          "iopub.status.busy": "2021-05-10T19:58:29.336195Z",
          "iopub.status.idle": "2021-05-10T19:58:29.380110Z",
          "shell.execute_reply": "2021-05-10T19:58:29.379610Z"
        },
        "papermill": {
          "duration": 0.06629,
          "end_time": "2021-05-10T19:58:29.380236",
          "exception": false,
          "start_time": "2021-05-10T19:58:29.313946",
          "status": "completed"
        },
        "tags": [],
        "colab": {
          "base_uri": "https://localhost:8080/"
        },
        "id": "Rt4c-4YHlxS-",
        "outputId": "42599230-d8db-45a7-a95c-797599fc741f"
      },
      "source": [
        "# Get size of vocabulary\n",
        "vocabulary = set()\n",
        "\n",
        "for tweet in tweets:\n",
        "    for word in tweet:\n",
        "        if word not in vocabulary:\n",
        "            vocabulary.add(word)\n",
        "\n",
        "vocab_length = len(vocabulary)\n",
        "\n",
        "# Get max length of a sequence\n",
        "max_seq_length = 0\n",
        "\n",
        "for tweet in tweets:\n",
        "    if len(tweet) > max_seq_length:\n",
        "        max_seq_length = len(tweet)\n",
        "\n",
        "# Print results\n",
        "print(\"Vocab length:\", vocab_length)\n",
        "print(\"Max sequence length:\", max_seq_length)"
      ],
      "execution_count": 14,
      "outputs": [
        {
          "output_type": "stream",
          "text": [
            "Vocab length: 11251\n",
            "Max sequence length: 90\n"
          ],
          "name": "stdout"
        }
      ]
    },
    {
      "cell_type": "code",
      "metadata": {
        "execution": {
          "iopub.execute_input": "2021-05-10T19:58:29.427880Z",
          "iopub.status.busy": "2021-05-10T19:58:29.417343Z",
          "iopub.status.idle": "2021-05-10T19:58:29.794551Z",
          "shell.execute_reply": "2021-05-10T19:58:29.793916Z"
        },
        "papermill": {
          "duration": 0.399798,
          "end_time": "2021-05-10T19:58:29.794659",
          "exception": false,
          "start_time": "2021-05-10T19:58:29.394861",
          "status": "completed"
        },
        "tags": [],
        "id": "VP--LjH9lxS_"
      },
      "source": [
        "tokenizer = Tokenizer(num_words=vocab_length)\n",
        "tokenizer.fit_on_texts(tweets)\n",
        "\n",
        "sequences = tokenizer.texts_to_sequences(tweets)\n",
        "\n",
        "word_index = tokenizer.word_index\n",
        "\n",
        "model_inputs = pad_sequences(sequences, maxlen=max_seq_length, padding='post')"
      ],
      "execution_count": 15,
      "outputs": []
    },
    {
      "cell_type": "code",
      "metadata": {
        "execution": {
          "iopub.execute_input": "2021-05-10T19:58:29.831399Z",
          "iopub.status.busy": "2021-05-10T19:58:29.830400Z",
          "iopub.status.idle": "2021-05-10T19:58:29.834266Z",
          "shell.execute_reply": "2021-05-10T19:58:29.833813Z"
        },
        "papermill": {
          "duration": 0.024994,
          "end_time": "2021-05-10T19:58:29.834372",
          "exception": false,
          "start_time": "2021-05-10T19:58:29.809378",
          "status": "completed"
        },
        "tags": [],
        "colab": {
          "base_uri": "https://localhost:8080/"
        },
        "id": "p4I3IDE8lxS_",
        "outputId": "22b87ade-ea06-4d15-e3b5-a50ef0e3df48"
      },
      "source": [
        "model_inputs"
      ],
      "execution_count": 16,
      "outputs": [
        {
          "output_type": "execute_result",
          "data": {
            "text/plain": [
              "array([[  49,    2,  218, ...,    0,    0,    0],\n",
              "       [   5,  191,  102, ...,    0,    0,    0],\n",
              "       [  15,  138, 2841, ...,    0,    0,    0],\n",
              "       ...,\n",
              "       [  76,  507,  435, ...,    0,    0,    0],\n",
              "       [   8,   19,   12, ...,    0,    0,    0],\n",
              "       [  37,   19,    4, ...,    0,    0,    0]], dtype=int32)"
            ]
          },
          "metadata": {
            "tags": []
          },
          "execution_count": 16
        }
      ]
    },
    {
      "cell_type": "code",
      "metadata": {
        "execution": {
          "iopub.execute_input": "2021-05-10T19:58:29.869769Z",
          "iopub.status.busy": "2021-05-10T19:58:29.868836Z",
          "iopub.status.idle": "2021-05-10T19:58:29.873022Z",
          "shell.execute_reply": "2021-05-10T19:58:29.872548Z"
        },
        "papermill": {
          "duration": 0.02392,
          "end_time": "2021-05-10T19:58:29.873126",
          "exception": false,
          "start_time": "2021-05-10T19:58:29.849206",
          "status": "completed"
        },
        "tags": [],
        "colab": {
          "base_uri": "https://localhost:8080/"
        },
        "id": "1dBFdskClxS_",
        "outputId": "e252daeb-d950-413d-b3d7-29509344e620"
      },
      "source": [
        "model_inputs.shape"
      ],
      "execution_count": 17,
      "outputs": [
        {
          "output_type": "execute_result",
          "data": {
            "text/plain": [
              "(14402, 90)"
            ]
          },
          "metadata": {
            "tags": []
          },
          "execution_count": 17
        }
      ]
    },
    {
      "cell_type": "code",
      "metadata": {
        "execution": {
          "iopub.execute_input": "2021-05-10T19:58:29.909441Z",
          "iopub.status.busy": "2021-05-10T19:58:29.908828Z",
          "iopub.status.idle": "2021-05-10T19:58:29.917744Z",
          "shell.execute_reply": "2021-05-10T19:58:29.917062Z"
        },
        "papermill": {
          "duration": 0.02937,
          "end_time": "2021-05-10T19:58:29.917853",
          "exception": false,
          "start_time": "2021-05-10T19:58:29.888483",
          "status": "completed"
        },
        "tags": [],
        "id": "3lqxCabwlxTA"
      },
      "source": [
        "X_train, X_test, y_train, y_test = train_test_split(model_inputs, labels, train_size=0.7, random_state=22)"
      ],
      "execution_count": 18,
      "outputs": []
    },
    {
      "cell_type": "code",
      "metadata": {
        "execution": {
          "iopub.execute_input": "2021-05-10T19:58:29.957083Z",
          "iopub.status.busy": "2021-05-10T19:58:29.956462Z",
          "iopub.status.idle": "2021-05-10T19:58:30.850552Z",
          "shell.execute_reply": "2021-05-10T19:58:30.849634Z"
        },
        "papermill": {
          "duration": 0.917023,
          "end_time": "2021-05-10T19:58:30.850676",
          "exception": false,
          "start_time": "2021-05-10T19:58:29.933653",
          "status": "completed"
        },
        "tags": [],
        "colab": {
          "base_uri": "https://localhost:8080/",
          "height": 564
        },
        "id": "uXRtE9dPlxTA",
        "outputId": "49bd2afa-6ee0-4551-c9de-7c73664d3e67"
      },
      "source": [
        "embedding_dim = 32\n",
        "\n",
        "\n",
        "inputs = tf.keras.Input(shape=(max_seq_length,))\n",
        "\n",
        "embedding = tf.keras.layers.Embedding(\n",
        "    input_dim=vocab_length,\n",
        "    output_dim=embedding_dim,\n",
        "    input_length=max_seq_length\n",
        ")(inputs)\n",
        "\n",
        "\n",
        "# Model A (just a Flatten layer)\n",
        "flatten = tf.keras.layers.Flatten()(embedding)\n",
        "\n",
        "# Model B (GRU with a Flatten layer)\n",
        "gru = tf.keras.layers.GRU(units=embedding_dim)(embedding)\n",
        "gru_flatten = tf.keras.layers.Flatten()(gru)\n",
        "\n",
        "# Both A and B are fed into the output\n",
        "concat = tf.keras.layers.concatenate([flatten, gru_flatten])\n",
        "\n",
        "outputs = tf.keras.layers.Dense(3, activation='softmax')(concat)\n",
        "\n",
        "\n",
        "model = tf.keras.Model(inputs, outputs)\n",
        "\n",
        "tf.keras.utils.plot_model(model)"
      ],
      "execution_count": 19,
      "outputs": [
        {
          "output_type": "execute_result",
          "data": {
            "image/png": "[encoded data removed]",
            "text/plain": [
              "<IPython.core.display.Image object>"
            ]
          },
          "metadata": {
            "tags": []
          },
          "execution_count": 19
        }
      ]
    },
    {
      "cell_type": "code",
      "metadata": {
        "execution": {
          "iopub.execute_input": "2021-05-10T19:58:30.899862Z",
          "iopub.status.busy": "2021-05-10T19:58:30.892892Z",
          "iopub.status.idle": "2021-05-10T19:59:21.998715Z",
          "shell.execute_reply": "2021-05-10T19:59:21.999395Z"
        },
        "papermill": {
          "duration": 51.131599,
          "end_time": "2021-05-10T19:59:21.999566",
          "exception": false,
          "start_time": "2021-05-10T19:58:30.867967",
          "status": "completed"
        },
        "tags": [],
        "colab": {
          "base_uri": "https://localhost:8080/"
        },
        "id": "QHMBqQLWlxTA",
        "outputId": "40419e92-5631-4336-ef79-79fe3864d47b"
      },
      "source": [
        "model.compile(\n",
        "    optimizer='adam',\n",
        "    loss='sparse_categorical_crossentropy',\n",
        "    metrics=['accuracy']\n",
        ")\n",
        "\n",
        "\n",
        "batch_size = 32\n",
        "epochs = 100\n",
        "\n",
        "history = model.fit(\n",
        "    X_train,\n",
        "    y_train,\n",
        "    validation_split=0.2,\n",
        "    batch_size=batch_size,\n",
        "    epochs=epochs,\n",
        "    callbacks=[\n",
        "        tf.keras.callbacks.EarlyStopping(\n",
        "            monitor='val_loss',\n",
        "            patience=3,\n",
        "            restore_best_weights=True,\n",
        "            verbose=1\n",
        "        ),\n",
        "        tf.keras.callbacks.ReduceLROnPlateau()\n",
        "    ]\n",
        ")"
      ],
      "execution_count": 20,
      "outputs": [
        {
          "output_type": "stream",
          "text": [
            "Epoch 1/100\n",
            "252/252 [==============================] - 11s 36ms/step - loss: 0.8793 - accuracy: 0.6207 - val_loss: 0.6628 - val_accuracy: 0.7229\n",
            "Epoch 2/100\n",
            "252/252 [==============================] - 8s 33ms/step - loss: 0.5421 - accuracy: 0.7844 - val_loss: 0.5376 - val_accuracy: 0.7858\n",
            "Epoch 3/100\n",
            "252/252 [==============================] - 8s 33ms/step - loss: 0.3713 - accuracy: 0.8713 - val_loss: 0.5062 - val_accuracy: 0.8027\n",
            "Epoch 4/100\n",
            "252/252 [==============================] - 8s 33ms/step - loss: 0.2696 - accuracy: 0.9172 - val_loss: 0.5089 - val_accuracy: 0.8052\n",
            "Epoch 5/100\n",
            "252/252 [==============================] - 8s 33ms/step - loss: 0.2044 - accuracy: 0.9395 - val_loss: 0.5265 - val_accuracy: 0.8032\n",
            "Epoch 6/100\n",
            "252/252 [==============================] - 8s 33ms/step - loss: 0.1547 - accuracy: 0.9601 - val_loss: 0.5490 - val_accuracy: 0.7982\n",
            "Restoring model weights from the end of the best epoch.\n",
            "Epoch 00006: early stopping\n"
          ],
          "name": "stdout"
        }
      ]
    },
    {
      "cell_type": "code",
      "metadata": {
        "colab": {
          "base_uri": "https://localhost:8080/"
        },
        "id": "TxNqaK2snCkn",
        "outputId": "57275d2c-1641-427e-b668-5a6ddeab59f5"
      },
      "source": [
        "y_train\n"
      ],
      "execution_count": 21,
      "outputs": [
        {
          "output_type": "execute_result",
          "data": {
            "text/plain": [
              "array([0, 1, 0, ..., 0, 0, 0])"
            ]
          },
          "metadata": {
            "tags": []
          },
          "execution_count": 21
        }
      ]
    },
    {
      "cell_type": "code",
      "metadata": {
        "execution": {
          "iopub.execute_input": "2021-05-10T19:59:22.439885Z",
          "iopub.status.busy": "2021-05-10T19:59:22.439314Z",
          "iopub.status.idle": "2021-05-10T19:59:23.326681Z",
          "shell.execute_reply": "2021-05-10T19:59:23.326041Z"
        },
        "papermill": {
          "duration": 1.106503,
          "end_time": "2021-05-10T19:59:23.326797",
          "exception": false,
          "start_time": "2021-05-10T19:59:22.220294",
          "status": "completed"
        },
        "tags": [],
        "colab": {
          "base_uri": "https://localhost:8080/"
        },
        "id": "zu4hXI8IlxTA",
        "outputId": "261f23d2-c0d1-495e-d608-604c35695ba6"
      },
      "source": [
        "model.evaluate(X_test, y_test)"
      ],
      "execution_count": 22,
      "outputs": [
        {
          "output_type": "stream",
          "text": [
            "136/136 [==============================] - 1s 9ms/step - loss: 0.4848 - accuracy: 0.8037\n"
          ],
          "name": "stdout"
        },
        {
          "output_type": "execute_result",
          "data": {
            "text/plain": [
              "[0.4848462641239166, 0.803749144077301]"
            ]
          },
          "metadata": {
            "tags": []
          },
          "execution_count": 22
        }
      ]
    }
  ]
}